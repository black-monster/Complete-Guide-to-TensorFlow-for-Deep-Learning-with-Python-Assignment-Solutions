{
  "nbformat": 4,
  "nbformat_minor": 0,
  "metadata": {
    "colab": {
      "name": "02-Time-Series-Exercise.ipynb",
      "version": "0.3.2",
      "views": {},
      "default_view": {},
      "provenance": []
    },
    "kernelspec": {
      "display_name": "Python 3",
      "language": "python",
      "name": "python3"
    }
  },
  "cells": [
    {
      "metadata": {
        "id": "nddNJ1AUo_iS",
        "colab_type": "text"
      },
      "cell_type": "markdown",
      "source": [
        "# Time Series Exercise - \n",
        "\n",
        "### Follow along with the instructions in bold. Watch the solutions video if you get stuck!"
      ]
    },
    {
      "metadata": {
        "id": "nwXi7rj4pBMN",
        "colab_type": "code",
        "colab": {
          "autoexec": {
            "startup": false,
            "wait_interval": 0
          },
          "resources": {
            "http://localhost:8080/nbextensions/google.colab/files.js": {
              "data": "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",
              "ok": true,
              "headers": [
                [
                  "content-type",
                  "application/javascript"
                ]
              ],
              "status": 200,
              "status_text": ""
            }
          },
          "base_uri": "https://localhost:8080/",
          "height": 106
        },
        "outputId": "5a43084b-1f8d-4d66-a157-cb83f8a80501",
        "executionInfo": {
          "status": "ok",
          "timestamp": 1533620953619,
          "user_tz": -330,
          "elapsed": 8973,
          "user": {
            "displayName": "ankur raja",
            "photoUrl": "//lh3.googleusercontent.com/-P3hjYlx442I/AAAAAAAAAAI/AAAAAAAAAJ8/_AwxqjC6DhE/s50-c-k-no/photo.jpg",
            "userId": "111833698361307138454"
          }
        }
      },
      "cell_type": "code",
      "source": [
        "from google.colab import files\n",
        "files.upload()"
      ],
      "execution_count": 1,
      "outputs": [
        {
          "output_type": "display_data",
          "data": {
            "text/html": [
              "\n",
              "     <input type=\"file\" id=\"files-9682f274-f213-48dd-af43-8ba33410a5b7\" name=\"files[]\" multiple disabled />\n",
              "     <output id=\"result-9682f274-f213-48dd-af43-8ba33410a5b7\">\n",
              "      Upload widget is only available when the cell has been executed in the\n",
              "      current browser session. Please rerun this cell to enable.\n",
              "      </output>\n",
              "      <script src=\"/nbextensions/google.colab/files.js\"></script> "
            ],
            "text/plain": [
              "<IPython.core.display.HTML object>"
            ]
          },
          "metadata": {
            "tags": []
          }
        },
        {
          "output_type": "stream",
          "text": [
            "Saving monthly-milk-production.csv to monthly-milk-production (3).csv\n"
          ],
          "name": "stdout"
        },
        {
          "output_type": "execute_result",
          "data": {
            "text/plain": [
              "{'monthly-milk-production.csv': b'Month,Milk Production\\n1962-01-01 01:00:00,589.0\\n1962-02-01 01:00:00,561.0\\n1962-03-01 01:00:00,640.0\\n1962-04-01 01:00:00,656.0\\n1962-05-01 01:00:00,727.0\\n1962-06-01 01:00:00,697.0\\n1962-07-01 01:00:00,640.0\\n1962-08-01 01:00:00,599.0\\n1962-09-01 01:00:00,568.0\\n1962-10-01 01:00:00,577.0\\n1962-11-01 01:00:00,553.0\\n1962-12-01 01:00:00,582.0\\n1963-01-01 01:00:00,600.0\\n1963-02-01 01:00:00,566.0\\n1963-03-01 01:00:00,653.0\\n1963-04-01 01:00:00,673.0\\n1963-05-01 01:00:00,742.0\\n1963-06-01 01:00:00,716.0\\n1963-07-01 01:00:00,660.0\\n1963-08-01 01:00:00,617.0\\n1963-09-01 01:00:00,583.0\\n1963-10-01 01:00:00,587.0\\n1963-11-01 01:00:00,565.0\\n1963-12-01 01:00:00,598.0\\n1964-01-01 01:00:00,628.0\\n1964-02-01 01:00:00,618.0\\n1964-03-01 01:00:00,688.0\\n1964-04-01 01:00:00,705.0\\n1964-05-01 01:00:00,770.0\\n1964-06-01 01:00:00,736.0\\n1964-07-01 01:00:00,678.0\\n1964-08-01 01:00:00,639.0\\n1964-09-01 01:00:00,604.0\\n1964-10-01 01:00:00,611.0\\n1964-11-01 01:00:00,594.0\\n1964-12-01 01:00:00,634.0\\n1965-01-01 01:00:00,658.0\\n1965-02-01 01:00:00,622.0\\n1965-03-01 01:00:00,709.0\\n1965-04-01 01:00:00,722.0\\n1965-05-01 01:00:00,782.0\\n1965-06-01 01:00:00,756.0\\n1965-07-01 01:00:00,702.0\\n1965-08-01 01:00:00,653.0\\n1965-09-01 01:00:00,615.0\\n1965-10-01 01:00:00,621.0\\n1965-11-01 01:00:00,602.0\\n1965-12-01 01:00:00,635.0\\n1966-01-01 01:00:00,677.0\\n1966-02-01 01:00:00,635.0\\n1966-03-01 01:00:00,736.0\\n1966-04-01 01:00:00,755.0\\n1966-05-01 01:00:00,811.0\\n1966-06-01 01:00:00,798.0\\n1966-07-01 01:00:00,735.0\\n1966-08-01 01:00:00,697.0\\n1966-09-01 01:00:00,661.0\\n1966-10-01 01:00:00,667.0\\n1966-11-01 01:00:00,645.0\\n1966-12-01 01:00:00,688.0\\n1967-01-01 01:00:00,713.0\\n1967-02-01 01:00:00,667.0\\n1967-03-01 01:00:00,762.0\\n1967-04-01 01:00:00,784.0\\n1967-05-01 01:00:00,837.0\\n1967-06-01 01:00:00,817.0\\n1967-07-01 01:00:00,767.0\\n1967-08-01 01:00:00,722.0\\n1967-09-01 01:00:00,681.0\\n1967-10-01 01:00:00,687.0\\n1967-11-01 01:00:00,660.0\\n1967-12-01 01:00:00,698.0\\n1968-01-01 01:00:00,717.0\\n1968-02-01 01:00:00,696.0\\n1968-03-01 01:00:00,775.0\\n1968-04-01 01:00:00,796.0\\n1968-05-01 01:00:00,858.0\\n1968-06-01 01:00:00,826.0\\n1968-07-01 01:00:00,783.0\\n1968-08-01 01:00:00,740.0\\n1968-09-01 01:00:00,701.0\\n1968-10-01 01:00:00,706.0\\n1968-11-01 01:00:00,677.0\\n1968-12-01 01:00:00,711.0\\n1969-01-01 01:00:00,734.0\\n1969-02-01 01:00:00,690.0\\n1969-03-01 01:00:00,785.0\\n1969-04-01 01:00:00,805.0\\n1969-05-01 01:00:00,871.0\\n1969-06-01 01:00:00,845.0\\n1969-07-01 01:00:00,801.0\\n1969-08-01 01:00:00,764.0\\n1969-09-01 01:00:00,725.0\\n1969-10-01 01:00:00,723.0\\n1969-11-01 01:00:00,690.0\\n1969-12-01 01:00:00,734.0\\n1970-01-01 01:00:00,750.0\\n1970-02-01 01:00:00,707.0\\n1970-03-01 01:00:00,807.0\\n1970-04-01 01:00:00,824.0\\n1970-05-01 01:00:00,886.0\\n1970-06-01 01:00:00,859.0\\n1970-07-01 01:00:00,819.0\\n1970-08-01 01:00:00,783.0\\n1970-09-01 01:00:00,740.0\\n1970-10-01 01:00:00,747.0\\n1970-11-01 01:00:00,711.0\\n1970-12-01 01:00:00,751.0\\n1971-01-01 01:00:00,804.0\\n1971-02-01 01:00:00,756.0\\n1971-03-01 01:00:00,860.0\\n1971-04-01 01:00:00,878.0\\n1971-05-01 01:00:00,942.0\\n1971-06-01 01:00:00,913.0\\n1971-07-01 01:00:00,869.0\\n1971-08-01 01:00:00,834.0\\n1971-09-01 01:00:00,790.0\\n1971-10-01 01:00:00,800.0\\n1971-11-01 01:00:00,763.0\\n1971-12-01 01:00:00,800.0\\n1972-01-01 01:00:00,826.0\\n1972-02-01 01:00:00,799.0\\n1972-03-01 01:00:00,890.0\\n1972-04-01 01:00:00,900.0\\n1972-05-01 01:00:00,961.0\\n1972-06-01 01:00:00,935.0\\n1972-07-01 01:00:00,894.0\\n1972-08-01 01:00:00,855.0\\n1972-09-01 01:00:00,809.0\\n1972-10-01 01:00:00,810.0\\n1972-11-01 01:00:00,766.0\\n1972-12-01 01:00:00,805.0\\n1973-01-01 01:00:00,821.0\\n1973-02-01 01:00:00,773.0\\n1973-03-01 01:00:00,883.0\\n1973-04-01 01:00:00,898.0\\n1973-05-01 01:00:00,957.0\\n1973-06-01 01:00:00,924.0\\n1973-07-01 01:00:00,881.0\\n1973-08-01 01:00:00,837.0\\n1973-09-01 01:00:00,784.0\\n1973-10-01 01:00:00,791.0\\n1973-11-01 01:00:00,760.0\\n1973-12-01 01:00:00,802.0\\n1974-01-01 01:00:00,828.0\\n1974-02-01 01:00:00,778.0\\n1974-03-01 01:00:00,889.0\\n1974-04-01 01:00:00,902.0\\n1974-05-01 01:00:00,969.0\\n1974-06-01 01:00:00,947.0\\n1974-07-01 01:00:00,908.0\\n1974-08-01 01:00:00,867.0\\n1974-09-01 01:00:00,815.0\\n1974-10-01 01:00:00,812.0\\n1974-11-01 01:00:00,773.0\\n1974-12-01 01:00:00,813.0\\n1975-01-01 01:00:00,834.0\\n1975-02-01 01:00:00,782.0\\n1975-03-01 01:00:00,892.0\\n1975-04-01 01:00:00,903.0\\n1975-05-01 01:00:00,966.0\\n1975-06-01 01:00:00,937.0\\n1975-07-01 01:00:00,896.0\\n1975-08-01 01:00:00,858.0\\n1975-09-01 01:00:00,817.0\\n1975-10-01 01:00:00,827.0\\n1975-11-01 01:00:00,797.0\\n1975-12-01 01:00:00,843.0\\n'}"
            ]
          },
          "metadata": {
            "tags": []
          },
          "execution_count": 1
        }
      ]
    },
    {
      "metadata": {
        "id": "f-l86IHLo_iV",
        "colab_type": "text"
      },
      "cell_type": "markdown",
      "source": [
        "## The Data\n",
        "\n",
        "** Source: https://datamarket.com/data/set/22ox/monthly-milk-production-pounds-per-cow-jan-62-dec-75#!ds=22ox&display=line **\n",
        "\n",
        "**Monthly milk production: pounds per cow. Jan 62 - Dec 75**"
      ]
    },
    {
      "metadata": {
        "id": "LBnTMOGlo_iW",
        "colab_type": "text"
      },
      "cell_type": "markdown",
      "source": [
        "** Import numpy pandas and matplotlib **"
      ]
    },
    {
      "metadata": {
        "id": "uKoYFXpXo_iX",
        "colab_type": "code",
        "colab": {
          "autoexec": {
            "startup": false,
            "wait_interval": 0
          }
        }
      },
      "cell_type": "code",
      "source": [
        "import numpy as np\n",
        "import pandas as pd"
      ],
      "execution_count": 0,
      "outputs": []
    },
    {
      "metadata": {
        "id": "TxMtQ-Ebo_ih",
        "colab_type": "text"
      },
      "cell_type": "markdown",
      "source": [
        "** Use pandas to read the csv of the monthly-milk-production.csv file and set index_col='Month' **"
      ]
    },
    {
      "metadata": {
        "id": "I-TFEt76o_ii",
        "colab_type": "code",
        "colab": {
          "autoexec": {
            "startup": false,
            "wait_interval": 0
          }
        }
      },
      "cell_type": "code",
      "source": [
        "df = pd.read_csv('monthly-milk-production.csv',index_col='Month')"
      ],
      "execution_count": 0,
      "outputs": []
    },
    {
      "metadata": {
        "id": "A6X0WsHuo_io",
        "colab_type": "text"
      },
      "cell_type": "markdown",
      "source": [
        "** Check out the head of the dataframe**"
      ]
    },
    {
      "metadata": {
        "id": "JWDXVL6lpyTU",
        "colab_type": "code",
        "colab": {
          "autoexec": {
            "startup": false,
            "wait_interval": 0
          },
          "base_uri": "https://localhost:8080/",
          "height": 235
        },
        "outputId": "f625937f-03be-4533-daac-2c06cda6a260",
        "executionInfo": {
          "status": "ok",
          "timestamp": 1533622226988,
          "user_tz": -330,
          "elapsed": 1398,
          "user": {
            "displayName": "ankur raja",
            "photoUrl": "//lh3.googleusercontent.com/-P3hjYlx442I/AAAAAAAAAAI/AAAAAAAAAJ8/_AwxqjC6DhE/s50-c-k-no/photo.jpg",
            "userId": "111833698361307138454"
          }
        }
      },
      "cell_type": "code",
      "source": [
        "df.head()"
      ],
      "execution_count": 3,
      "outputs": [
        {
          "output_type": "execute_result",
          "data": {
            "text/html": [
              "<div>\n",
              "<style scoped>\n",
              "    .dataframe tbody tr th:only-of-type {\n",
              "        vertical-align: middle;\n",
              "    }\n",
              "\n",
              "    .dataframe tbody tr th {\n",
              "        vertical-align: top;\n",
              "    }\n",
              "\n",
              "    .dataframe thead th {\n",
              "        text-align: right;\n",
              "    }\n",
              "</style>\n",
              "<table border=\"1\" class=\"dataframe\">\n",
              "  <thead>\n",
              "    <tr style=\"text-align: right;\">\n",
              "      <th></th>\n",
              "      <th>Milk Production</th>\n",
              "    </tr>\n",
              "    <tr>\n",
              "      <th>Month</th>\n",
              "      <th></th>\n",
              "    </tr>\n",
              "  </thead>\n",
              "  <tbody>\n",
              "    <tr>\n",
              "      <th>1962-01-01 01:00:00</th>\n",
              "      <td>589.0</td>\n",
              "    </tr>\n",
              "    <tr>\n",
              "      <th>1962-02-01 01:00:00</th>\n",
              "      <td>561.0</td>\n",
              "    </tr>\n",
              "    <tr>\n",
              "      <th>1962-03-01 01:00:00</th>\n",
              "      <td>640.0</td>\n",
              "    </tr>\n",
              "    <tr>\n",
              "      <th>1962-04-01 01:00:00</th>\n",
              "      <td>656.0</td>\n",
              "    </tr>\n",
              "    <tr>\n",
              "      <th>1962-05-01 01:00:00</th>\n",
              "      <td>727.0</td>\n",
              "    </tr>\n",
              "  </tbody>\n",
              "</table>\n",
              "</div>"
            ],
            "text/plain": [
              "                     Milk Production\n",
              "Month                               \n",
              "1962-01-01 01:00:00            589.0\n",
              "1962-02-01 01:00:00            561.0\n",
              "1962-03-01 01:00:00            640.0\n",
              "1962-04-01 01:00:00            656.0\n",
              "1962-05-01 01:00:00            727.0"
            ]
          },
          "metadata": {
            "tags": []
          },
          "execution_count": 3
        }
      ]
    },
    {
      "metadata": {
        "id": "AZSlPU9Zo_ix",
        "colab_type": "text"
      },
      "cell_type": "markdown",
      "source": [
        "** Make the index a time series by using: **\n",
        "\n",
        "    milk.index = pd.to_datetime(milk.index)"
      ]
    },
    {
      "metadata": {
        "id": "wMJP8N41o_iz",
        "colab_type": "code",
        "colab": {
          "autoexec": {
            "startup": false,
            "wait_interval": 0
          }
        }
      },
      "cell_type": "code",
      "source": [
        "df.index = pd.to_datetime(df.index)"
      ],
      "execution_count": 0,
      "outputs": []
    },
    {
      "metadata": {
        "id": "C9_tn46ao_i4",
        "colab_type": "text"
      },
      "cell_type": "markdown",
      "source": [
        "** Plot out the time series data. **"
      ]
    },
    {
      "metadata": {
        "id": "-xK3u5WpqBO2",
        "colab_type": "code",
        "colab": {
          "autoexec": {
            "startup": false,
            "wait_interval": 0
          }
        }
      },
      "cell_type": "code",
      "source": [
        "import matplotlib.pyplot as plt"
      ],
      "execution_count": 0,
      "outputs": []
    },
    {
      "metadata": {
        "id": "HoHEU7DRqR-r",
        "colab_type": "code",
        "colab": {
          "autoexec": {
            "startup": false,
            "wait_interval": 0
          },
          "base_uri": "https://localhost:8080/",
          "height": 358
        },
        "outputId": "3125575d-f8c0-4adc-b2b7-7cbea1c1fb28",
        "executionInfo": {
          "status": "ok",
          "timestamp": 1533622231868,
          "user_tz": -330,
          "elapsed": 1463,
          "user": {
            "displayName": "ankur raja",
            "photoUrl": "//lh3.googleusercontent.com/-P3hjYlx442I/AAAAAAAAAAI/AAAAAAAAAJ8/_AwxqjC6DhE/s50-c-k-no/photo.jpg",
            "userId": "111833698361307138454"
          }
        }
      },
      "cell_type": "code",
      "source": [
        "df.plot()"
      ],
      "execution_count": 6,
      "outputs": [
        {
          "output_type": "execute_result",
          "data": {
            "text/plain": [
              "<matplotlib.axes._subplots.AxesSubplot at 0x7f751ea73dd8>"
            ]
          },
          "metadata": {
            "tags": []
          },
          "execution_count": 6
        },
        {
          "output_type": "display_data",
          "data": {
            "image/png": "[encoded data removed]",
            "text/plain": [
              "<matplotlib.figure.Figure at 0x7f751ea73400>"
            ]
          },
          "metadata": {
            "tags": []
          }
        }
      ]
    },
    {
      "metadata": {
        "id": "oka4Mh63o_jB",
        "colab_type": "text"
      },
      "cell_type": "markdown",
      "source": [
        "___"
      ]
    },
    {
      "metadata": {
        "id": "9P_piufmo_jD",
        "colab_type": "text"
      },
      "cell_type": "markdown",
      "source": [
        "### Train Test Split\n",
        "\n",
        "** Let's attempt to predict a year's worth of data. (12 months or 12 steps into the future) **\n",
        "\n",
        "** Create a test train split using indexing (hint: use .head() or tail() or .iloc[]). We don't want a random train test split, we want to specify that the test set is the last 12 months of data is the test set, with everything before it is the training. **"
      ]
    },
    {
      "metadata": {
        "id": "urtCFiM_qxe3",
        "colab_type": "code",
        "colab": {
          "autoexec": {
            "startup": false,
            "wait_interval": 0
          }
        }
      },
      "cell_type": "code",
      "source": [
        "train_df = df.iloc[0:156]"
      ],
      "execution_count": 0,
      "outputs": []
    },
    {
      "metadata": {
        "id": "_fg8ixN0rJ-E",
        "colab_type": "code",
        "colab": {
          "autoexec": {
            "startup": false,
            "wait_interval": 0
          },
          "base_uri": "https://localhost:8080/",
          "height": 119
        },
        "outputId": "f0cc5b06-610b-4a24-8189-7018e982066f",
        "executionInfo": {
          "status": "ok",
          "timestamp": 1533622234329,
          "user_tz": -330,
          "elapsed": 896,
          "user": {
            "displayName": "ankur raja",
            "photoUrl": "//lh3.googleusercontent.com/-P3hjYlx442I/AAAAAAAAAAI/AAAAAAAAAJ8/_AwxqjC6DhE/s50-c-k-no/photo.jpg",
            "userId": "111833698361307138454"
          }
        }
      },
      "cell_type": "code",
      "source": [
        "train_df.info()"
      ],
      "execution_count": 8,
      "outputs": [
        {
          "output_type": "stream",
          "text": [
            "<class 'pandas.core.frame.DataFrame'>\n",
            "DatetimeIndex: 156 entries, 1962-01-01 01:00:00 to 1974-12-01 01:00:00\n",
            "Data columns (total 1 columns):\n",
            "Milk Production    156 non-null float64\n",
            "dtypes: float64(1)\n",
            "memory usage: 2.4 KB\n"
          ],
          "name": "stdout"
        }
      ]
    },
    {
      "metadata": {
        "id": "usbyEEXsrL8D",
        "colab_type": "code",
        "colab": {
          "autoexec": {
            "startup": false,
            "wait_interval": 0
          }
        }
      },
      "cell_type": "code",
      "source": [
        "test_df = df.iloc[156:]"
      ],
      "execution_count": 0,
      "outputs": []
    },
    {
      "metadata": {
        "id": "iVtOQGDlrRTD",
        "colab_type": "code",
        "colab": {
          "autoexec": {
            "startup": false,
            "wait_interval": 0
          },
          "base_uri": "https://localhost:8080/",
          "height": 235
        },
        "outputId": "562040ab-e96f-4445-e233-afc2b2bcd6ff",
        "executionInfo": {
          "status": "ok",
          "timestamp": 1533622236590,
          "user_tz": -330,
          "elapsed": 827,
          "user": {
            "displayName": "ankur raja",
            "photoUrl": "//lh3.googleusercontent.com/-P3hjYlx442I/AAAAAAAAAAI/AAAAAAAAAJ8/_AwxqjC6DhE/s50-c-k-no/photo.jpg",
            "userId": "111833698361307138454"
          }
        }
      },
      "cell_type": "code",
      "source": [
        "test_df.head()"
      ],
      "execution_count": 10,
      "outputs": [
        {
          "output_type": "execute_result",
          "data": {
            "text/html": [
              "<div>\n",
              "<style scoped>\n",
              "    .dataframe tbody tr th:only-of-type {\n",
              "        vertical-align: middle;\n",
              "    }\n",
              "\n",
              "    .dataframe tbody tr th {\n",
              "        vertical-align: top;\n",
              "    }\n",
              "\n",
              "    .dataframe thead th {\n",
              "        text-align: right;\n",
              "    }\n",
              "</style>\n",
              "<table border=\"1\" class=\"dataframe\">\n",
              "  <thead>\n",
              "    <tr style=\"text-align: right;\">\n",
              "      <th></th>\n",
              "      <th>Milk Production</th>\n",
              "    </tr>\n",
              "    <tr>\n",
              "      <th>Month</th>\n",
              "      <th></th>\n",
              "    </tr>\n",
              "  </thead>\n",
              "  <tbody>\n",
              "    <tr>\n",
              "      <th>1975-01-01 01:00:00</th>\n",
              "      <td>834.0</td>\n",
              "    </tr>\n",
              "    <tr>\n",
              "      <th>1975-02-01 01:00:00</th>\n",
              "      <td>782.0</td>\n",
              "    </tr>\n",
              "    <tr>\n",
              "      <th>1975-03-01 01:00:00</th>\n",
              "      <td>892.0</td>\n",
              "    </tr>\n",
              "    <tr>\n",
              "      <th>1975-04-01 01:00:00</th>\n",
              "      <td>903.0</td>\n",
              "    </tr>\n",
              "    <tr>\n",
              "      <th>1975-05-01 01:00:00</th>\n",
              "      <td>966.0</td>\n",
              "    </tr>\n",
              "  </tbody>\n",
              "</table>\n",
              "</div>"
            ],
            "text/plain": [
              "                     Milk Production\n",
              "Month                               \n",
              "1975-01-01 01:00:00            834.0\n",
              "1975-02-01 01:00:00            782.0\n",
              "1975-03-01 01:00:00            892.0\n",
              "1975-04-01 01:00:00            903.0\n",
              "1975-05-01 01:00:00            966.0"
            ]
          },
          "metadata": {
            "tags": []
          },
          "execution_count": 10
        }
      ]
    },
    {
      "metadata": {
        "id": "bm5HZtp1o_je",
        "colab_type": "text"
      },
      "cell_type": "markdown",
      "source": [
        "### Scale the Data\n",
        "\n",
        "** Use sklearn.preprocessing to scale the data using the MinMaxScaler. Remember to only fit_transform on the training data, then transform the test data. You shouldn't fit on the test data as well, otherwise you are assuming you would know about future behavior!**"
      ]
    },
    {
      "metadata": {
        "id": "UuuN8inJo_jf",
        "colab_type": "code",
        "colab": {
          "autoexec": {
            "startup": false,
            "wait_interval": 0
          }
        }
      },
      "cell_type": "code",
      "source": [
        "from sklearn.preprocessing import MinMaxScaler"
      ],
      "execution_count": 0,
      "outputs": []
    },
    {
      "metadata": {
        "id": "M2BZSELEo_jq",
        "colab_type": "code",
        "colab": {
          "autoexec": {
            "startup": false,
            "wait_interval": 0
          }
        }
      },
      "cell_type": "code",
      "source": [
        "scale = MinMaxScaler()\n",
        "train_df_scale = scale.fit_transform(train_df)\n",
        "test_df_scale = scale.transform(test_df)"
      ],
      "execution_count": 0,
      "outputs": []
    },
    {
      "metadata": {
        "id": "-tZnDXLXo_j1",
        "colab_type": "text"
      },
      "cell_type": "markdown",
      "source": [
        "## Batch Function\n",
        "\n",
        "** We'll need a function that can feed batches of the training data. We'll need to do several things that are listed out as steps in the comments of the function. Remember to reference the previous batch method from the lecture for hints. Try to fill out the function template below, this is a pretty hard step, so feel free to reference the solutions! **"
      ]
    },
    {
      "metadata": {
        "id": "DGmLfowRo_j1",
        "colab_type": "code",
        "colab": {
          "autoexec": {
            "startup": false,
            "wait_interval": 0
          }
        }
      },
      "cell_type": "code",
      "source": [
        "# def next_batch(training_data,batch_size,steps):\n",
        "#     \"\"\"\n",
        "#     INPUT: Data, Batch Size, Time Steps per batch\n",
        "#     OUTPUT: A tuple of y time series results. y[:,:-1] and y[:,1:]\n",
        "#     \"\"\"\n",
        "    \n",
        "#     # STEP 1: Use np.random.randint to set a random starting point index for the batch.\n",
        "#     # Remember that each batch needs have the same number of steps in it.\n",
        "#     # This means you should limit the starting point to len(data)-steps\n",
        "#     rand_start = np.random.randint(0,len(training_data)-steps)\n",
        "#     # STEP 2: Now that you have a starting index you'll need to index the data from\n",
        "#     # the random start to random start + steps + 1. Then reshape this data to be (1,steps+1)\n",
        "#     y_batch = np.array(training_data[rand_start:rand_start+steps+1]).reshape(1,steps+1)\n",
        "#     # STEP 3: Return the batches. You'll have two batches to return y[:,:-1] and y[:,1:]\n",
        "#     # You'll need to reshape these into tensors for the RNN to .reshape(-1,steps,1)\n",
        "    \n",
        "#     return y_batch[:, :-1].reshape(-1, steps, 1), y_batch[:, 1:].reshape(-1, steps, 1) "
      ],
      "execution_count": 0,
      "outputs": []
    },
    {
      "metadata": {
        "id": "t4GFz2ED6a5z",
        "colab_type": "code",
        "colab": {
          "autoexec": {
            "startup": false,
            "wait_interval": 0
          }
        }
      },
      "cell_type": "code",
      "source": [
        "def next_batch(training_data,batch_size,steps):\n",
        "    \n",
        "    \n",
        "    # Grab a random starting point for each batch\n",
        "    rand_start = np.random.randint(0,len(training_data)-steps) \n",
        "\n",
        "    # Create Y data for time series in the batches\n",
        "    y_batch = np.array(training_data[rand_start:rand_start+steps+1]).reshape(1,steps+1)\n",
        "\n",
        "    return y_batch[:, :-1].reshape(-1, steps, 1), y_batch[:, 1:].reshape(-1, steps, 1) "
      ],
      "execution_count": 0,
      "outputs": []
    },
    {
      "metadata": {
        "id": "SpONOTPjo_j9",
        "colab_type": "text"
      },
      "cell_type": "markdown",
      "source": [
        "## Setting Up The RNN Model"
      ]
    },
    {
      "metadata": {
        "id": "4a_cl7RSo_j9",
        "colab_type": "text"
      },
      "cell_type": "markdown",
      "source": [
        "** Import TensorFlow **"
      ]
    },
    {
      "metadata": {
        "id": "dd86wfPjo_kA",
        "colab_type": "code",
        "colab": {
          "autoexec": {
            "startup": false,
            "wait_interval": 0
          }
        }
      },
      "cell_type": "code",
      "source": [
        "import tensorflow as tf"
      ],
      "execution_count": 0,
      "outputs": []
    },
    {
      "metadata": {
        "id": "IjlUoJquo_kE",
        "colab_type": "text"
      },
      "cell_type": "markdown",
      "source": [
        "### The Constants\n",
        "\n",
        "** Define the constants in a single cell. You'll need the following (in parenthesis are the values I used in my solution, but you can play with some of these): **\n",
        "* Number of Inputs (1)\n",
        "* Number of Time Steps (12)\n",
        "* Number of Neurons per Layer (100)\n",
        "* Number of Outputs (1)\n",
        "* Learning Rate (0.03)\n",
        "* Number of Iterations for Training (4000)\n",
        "* Batch Size (1)"
      ]
    },
    {
      "metadata": {
        "id": "sUzp5OB1o_kF",
        "colab_type": "code",
        "colab": {
          "autoexec": {
            "startup": false,
            "wait_interval": 0
          }
        }
      },
      "cell_type": "code",
      "source": [
        "num_of_inputs = 1\n",
        "num_of_time_steps = 12\n",
        "num_of_neurons = 100\n",
        "num_outputs =1\n",
        "learning_rate = 0.03\n",
        "num_of_iterations = 4000\n",
        "batch_size=1"
      ],
      "execution_count": 0,
      "outputs": []
    },
    {
      "metadata": {
        "id": "XFyO4CS-o_kJ",
        "colab_type": "text"
      },
      "cell_type": "markdown",
      "source": [
        "** Create Placeholders for X and y. (You can change the variable names if you want). The shape for these placeholders should be [None,num_time_steps-1,num_inputs] and [None, num_time_steps-1, num_outputs] The reason we use num_time_steps-1 is because each of these will be one step shorter than the original time steps size, because we are training the RNN network to predict one point into the future based on the input sequence.**  "
      ]
    },
    {
      "metadata": {
        "id": "wGb-J8p2o_kR",
        "colab_type": "code",
        "colab": {
          "autoexec": {
            "startup": false,
            "wait_interval": 0
          }
        }
      },
      "cell_type": "code",
      "source": [
        "X = tf.placeholder(tf.float32, [None, num_of_time_steps, num_of_inputs])\n",
        "y = tf.placeholder(tf.float32, [None, num_of_time_steps, num_outputs])"
      ],
      "execution_count": 0,
      "outputs": []
    },
    {
      "metadata": {
        "id": "pjLUmtKKo_kd",
        "colab_type": "text"
      },
      "cell_type": "markdown",
      "source": [
        "** Now create the RNN Layer, you have complete freedom over this, use tf.contrib.rnn and choose anything you want, OutputProjectionWrappers, BasicRNNCells, BasicLSTMCells, MultiRNNCell, GRUCell etc... Keep in mind not every combination will work well! (If in doubt, the solutions used an Outputprojection Wrapper around a basic LSTM cell with relu activation.**"
      ]
    },
    {
      "metadata": {
        "id": "LqABhCmHo_kf",
        "colab_type": "code",
        "colab": {
          "autoexec": {
            "startup": false,
            "wait_interval": 0
          }
        }
      },
      "cell_type": "code",
      "source": [
        "cell = tf.contrib.rnn.OutputProjectionWrapper(\n",
        "    tf.contrib.rnn.BasicLSTMCell(num_units=num_of_neurons, activation=tf.nn.relu),\n",
        "    output_size=num_outputs) "
      ],
      "execution_count": 0,
      "outputs": []
    },
    {
      "metadata": {
        "id": "E2gqMXuQo_ks",
        "colab_type": "text"
      },
      "cell_type": "markdown",
      "source": [
        "** Now pass in the cells variable into tf.nn.dynamic_rnn, along with your first placeholder (X)**"
      ]
    },
    {
      "metadata": {
        "id": "b4ZTcE7wo_kt",
        "colab_type": "code",
        "colab": {
          "autoexec": {
            "startup": false,
            "wait_interval": 0
          }
        }
      },
      "cell_type": "code",
      "source": [
        "outputs, states = tf.nn.dynamic_rnn(cell, X, dtype=tf.float32)"
      ],
      "execution_count": 0,
      "outputs": []
    },
    {
      "metadata": {
        "id": "pCJdGPwJo_ky",
        "colab_type": "text"
      },
      "cell_type": "markdown",
      "source": [
        "### Loss Function and Optimizer\n",
        "\n",
        "** Create a Mean Squared Error Loss Function and use it to minimize an AdamOptimizer, remember to pass in your learning rate. **"
      ]
    },
    {
      "metadata": {
        "id": "oohWGE0Mo_k0",
        "colab_type": "code",
        "colab": {
          "autoexec": {
            "startup": false,
            "wait_interval": 0
          }
        }
      },
      "cell_type": "code",
      "source": [
        "loss = tf.reduce_mean(tf.square(outputs-y))\n",
        "optimizer = tf.train.AdamOptimizer(learning_rate=learning_rate)\n",
        "train = optimizer.minimize(loss)"
      ],
      "execution_count": 0,
      "outputs": []
    },
    {
      "metadata": {
        "id": "Os_yIm2yo_k3",
        "colab_type": "text"
      },
      "cell_type": "markdown",
      "source": [
        "** Initialize the global variables **"
      ]
    },
    {
      "metadata": {
        "id": "5v9a6NR7o_k4",
        "colab_type": "code",
        "colab": {
          "autoexec": {
            "startup": false,
            "wait_interval": 0
          }
        }
      },
      "cell_type": "code",
      "source": [
        "init = tf.global_variables_initializer()"
      ],
      "execution_count": 0,
      "outputs": []
    },
    {
      "metadata": {
        "id": "zwy7uKX8o_k-",
        "colab_type": "text"
      },
      "cell_type": "markdown",
      "source": [
        "** Create an instance of tf.train.Saver() **"
      ]
    },
    {
      "metadata": {
        "id": "H18fZDsmo_k-",
        "colab_type": "code",
        "colab": {
          "autoexec": {
            "startup": false,
            "wait_interval": 0
          }
        }
      },
      "cell_type": "code",
      "source": [
        "saver = tf.train.Saver()"
      ],
      "execution_count": 0,
      "outputs": []
    },
    {
      "metadata": {
        "id": "OpV4DvBHo_lI",
        "colab_type": "text"
      },
      "cell_type": "markdown",
      "source": [
        "### Session\n",
        "\n",
        "** Run a tf.Session that trains on the batches created by your next_batch function. Also add an a loss evaluation for every 100 training iterations. Remember to save your model after you are done training. **"
      ]
    },
    {
      "metadata": {
        "id": "C74nk0V86A2n",
        "colab_type": "code",
        "colab": {
          "autoexec": {
            "startup": false,
            "wait_interval": 0
          }
        }
      },
      "cell_type": "code",
      "source": [
        ""
      ],
      "execution_count": 0,
      "outputs": []
    },
    {
      "metadata": {
        "id": "BUcLDY395-Qc",
        "colab_type": "code",
        "colab": {
          "autoexec": {
            "startup": false,
            "wait_interval": 0
          },
          "base_uri": "https://localhost:8080/",
          "height": 697
        },
        "outputId": "c187abe0-6b5a-45ce-dec8-948f021e153d",
        "executionInfo": {
          "status": "ok",
          "timestamp": 1533622274397,
          "user_tz": -330,
          "elapsed": 15558,
          "user": {
            "displayName": "ankur raja",
            "photoUrl": "//lh3.googleusercontent.com/-P3hjYlx442I/AAAAAAAAAAI/AAAAAAAAAJ8/_AwxqjC6DhE/s50-c-k-no/photo.jpg",
            "userId": "111833698361307138454"
          }
        }
      },
      "cell_type": "code",
      "source": [
        "with tf.Session() as sess:\n",
        "    sess.run(init)\n",
        "    \n",
        "    for iteration in range(num_of_iterations):\n",
        "        \n",
        "        X_batch, y_batch = next_batch(train_df_scale,batch_size,num_of_time_steps)\n",
        "        sess.run(train, feed_dict={X: X_batch, y: y_batch})\n",
        "        \n",
        "        if iteration % 100 == 0:\n",
        "            \n",
        "            mse = loss.eval(feed_dict={X: X_batch, y: y_batch})\n",
        "            print(iteration, \"\\tMSE:\", mse)\n",
        "    \n",
        "    # Save Model for Later\n",
        "    saver.save(sess, \"./ex_time_series_model\")"
      ],
      "execution_count": 23,
      "outputs": [
        {
          "output_type": "stream",
          "text": [
            "0 \tMSE: 0.260185\n",
            "100 \tMSE: 0.013178435\n",
            "200 \tMSE: 0.0066791293\n",
            "300 \tMSE: 0.011526327\n",
            "400 \tMSE: 0.0071785063\n",
            "500 \tMSE: 0.006175076\n",
            "600 \tMSE: 0.009560135\n",
            "700 \tMSE: 0.0049458425\n",
            "800 \tMSE: 0.0049244543\n",
            "900 \tMSE: 0.007396683\n",
            "1000 \tMSE: 0.006610449\n",
            "1100 \tMSE: 0.0063021234\n",
            "1200 \tMSE: 0.008845958\n",
            "1300 \tMSE: 0.0037136374\n",
            "1400 \tMSE: 0.007933486\n",
            "1500 \tMSE: 0.008536165\n",
            "1600 \tMSE: 0.0049920273\n",
            "1700 \tMSE: 0.0065664873\n",
            "1800 \tMSE: 0.0037758078\n",
            "1900 \tMSE: 0.0083026625\n",
            "2000 \tMSE: 0.0053291805\n",
            "2100 \tMSE: 0.004235251\n",
            "2200 \tMSE: 0.009624147\n",
            "2300 \tMSE: 0.008748934\n",
            "2400 \tMSE: 0.008307607\n",
            "2500 \tMSE: 0.005266911\n",
            "2600 \tMSE: 0.0029876912\n",
            "2700 \tMSE: 0.010214972\n",
            "2800 \tMSE: 0.0057470384\n",
            "2900 \tMSE: 0.0034327637\n",
            "3000 \tMSE: 0.0045635644\n",
            "3100 \tMSE: 0.0026091589\n",
            "3200 \tMSE: 0.0055878065\n",
            "3300 \tMSE: 0.0017208689\n",
            "3400 \tMSE: 0.0076284627\n",
            "3500 \tMSE: 0.005203034\n",
            "3600 \tMSE: 0.0053127916\n",
            "3700 \tMSE: 0.0056832996\n",
            "3800 \tMSE: 0.004473522\n",
            "3900 \tMSE: 0.0069747567\n"
          ],
          "name": "stdout"
        }
      ]
    },
    {
      "metadata": {
        "id": "3q1EIWsvo_le",
        "colab_type": "text"
      },
      "cell_type": "markdown",
      "source": [
        "## Predicting Future (Test Data)"
      ]
    },
    {
      "metadata": {
        "id": "1Y6sAjYYo_lf",
        "colab_type": "text"
      },
      "cell_type": "markdown",
      "source": [
        "** Show the test_set (the last 12 months of your original complete data set) **"
      ]
    },
    {
      "metadata": {
        "id": "4u7SR-v-o_lg",
        "colab_type": "code",
        "colab": {
          "autoexec": {
            "startup": false,
            "wait_interval": 0
          },
          "base_uri": "https://localhost:8080/",
          "height": 452
        },
        "outputId": "82a841f8-9626-44bd-bf0d-78613737c7bb",
        "executionInfo": {
          "status": "ok",
          "timestamp": 1533622275541,
          "user_tz": -330,
          "elapsed": 1054,
          "user": {
            "displayName": "ankur raja",
            "photoUrl": "//lh3.googleusercontent.com/-P3hjYlx442I/AAAAAAAAAAI/AAAAAAAAAJ8/_AwxqjC6DhE/s50-c-k-no/photo.jpg",
            "userId": "111833698361307138454"
          }
        }
      },
      "cell_type": "code",
      "source": [
        "# CODE HERE\n",
        "test_df"
      ],
      "execution_count": 24,
      "outputs": [
        {
          "output_type": "execute_result",
          "data": {
            "text/html": [
              "<div>\n",
              "<style scoped>\n",
              "    .dataframe tbody tr th:only-of-type {\n",
              "        vertical-align: middle;\n",
              "    }\n",
              "\n",
              "    .dataframe tbody tr th {\n",
              "        vertical-align: top;\n",
              "    }\n",
              "\n",
              "    .dataframe thead th {\n",
              "        text-align: right;\n",
              "    }\n",
              "</style>\n",
              "<table border=\"1\" class=\"dataframe\">\n",
              "  <thead>\n",
              "    <tr style=\"text-align: right;\">\n",
              "      <th></th>\n",
              "      <th>Milk Production</th>\n",
              "    </tr>\n",
              "    <tr>\n",
              "      <th>Month</th>\n",
              "      <th></th>\n",
              "    </tr>\n",
              "  </thead>\n",
              "  <tbody>\n",
              "    <tr>\n",
              "      <th>1975-01-01 01:00:00</th>\n",
              "      <td>834.0</td>\n",
              "    </tr>\n",
              "    <tr>\n",
              "      <th>1975-02-01 01:00:00</th>\n",
              "      <td>782.0</td>\n",
              "    </tr>\n",
              "    <tr>\n",
              "      <th>1975-03-01 01:00:00</th>\n",
              "      <td>892.0</td>\n",
              "    </tr>\n",
              "    <tr>\n",
              "      <th>1975-04-01 01:00:00</th>\n",
              "      <td>903.0</td>\n",
              "    </tr>\n",
              "    <tr>\n",
              "      <th>1975-05-01 01:00:00</th>\n",
              "      <td>966.0</td>\n",
              "    </tr>\n",
              "    <tr>\n",
              "      <th>1975-06-01 01:00:00</th>\n",
              "      <td>937.0</td>\n",
              "    </tr>\n",
              "    <tr>\n",
              "      <th>1975-07-01 01:00:00</th>\n",
              "      <td>896.0</td>\n",
              "    </tr>\n",
              "    <tr>\n",
              "      <th>1975-08-01 01:00:00</th>\n",
              "      <td>858.0</td>\n",
              "    </tr>\n",
              "    <tr>\n",
              "      <th>1975-09-01 01:00:00</th>\n",
              "      <td>817.0</td>\n",
              "    </tr>\n",
              "    <tr>\n",
              "      <th>1975-10-01 01:00:00</th>\n",
              "      <td>827.0</td>\n",
              "    </tr>\n",
              "    <tr>\n",
              "      <th>1975-11-01 01:00:00</th>\n",
              "      <td>797.0</td>\n",
              "    </tr>\n",
              "    <tr>\n",
              "      <th>1975-12-01 01:00:00</th>\n",
              "      <td>843.0</td>\n",
              "    </tr>\n",
              "  </tbody>\n",
              "</table>\n",
              "</div>"
            ],
            "text/plain": [
              "                     Milk Production\n",
              "Month                               \n",
              "1975-01-01 01:00:00            834.0\n",
              "1975-02-01 01:00:00            782.0\n",
              "1975-03-01 01:00:00            892.0\n",
              "1975-04-01 01:00:00            903.0\n",
              "1975-05-01 01:00:00            966.0\n",
              "1975-06-01 01:00:00            937.0\n",
              "1975-07-01 01:00:00            896.0\n",
              "1975-08-01 01:00:00            858.0\n",
              "1975-09-01 01:00:00            817.0\n",
              "1975-10-01 01:00:00            827.0\n",
              "1975-11-01 01:00:00            797.0\n",
              "1975-12-01 01:00:00            843.0"
            ]
          },
          "metadata": {
            "tags": []
          },
          "execution_count": 24
        }
      ]
    },
    {
      "metadata": {
        "id": "QCkMKuV5o_lk",
        "colab_type": "text"
      },
      "cell_type": "markdown",
      "source": [
        "** Now we want to attempt to predict these 12 months of data, using only the training data we had. To do this we will feed in a seed training_instance of the last 12 months of the training_set of data to predict 12 months into the future. Then we will be able to compare our generated 12 months to our actual true historical values from the test set! **"
      ]
    },
    {
      "metadata": {
        "id": "QACFuycKo_ll",
        "colab_type": "text"
      },
      "cell_type": "markdown",
      "source": [
        "# Generative Session\n",
        "### NOTE: Recall that our model is really only trained to predict 1 time step ahead, asking it to generate 12 steps is a big ask, and technically not what it was trained to do! Think of this more as generating new values based off some previous pattern, rather than trying to directly predict the future. You would need to go back to the original model and train the model to predict 12 time steps ahead to really get a higher accuracy on the test data. (Which has its limits due to the smaller size of our data set)\n",
        "** Fill out the session code below to generate 12 months of data based off the last 12 months of data from the training set. The hardest part about this is adjusting the arrays with their shapes and sizes. Reference the lecture for hints.**"
      ]
    },
    {
      "metadata": {
        "id": "fV26mF17o_lm",
        "colab_type": "code",
        "colab": {
          "autoexec": {
            "startup": false,
            "wait_interval": 0
          },
          "base_uri": "https://localhost:8080/",
          "height": 34
        },
        "outputId": "5abeb994-ba68-42c6-858c-0453fb5e45f5",
        "executionInfo": {
          "status": "ok",
          "timestamp": 1533622276639,
          "user_tz": -330,
          "elapsed": 879,
          "user": {
            "displayName": "ankur raja",
            "photoUrl": "//lh3.googleusercontent.com/-P3hjYlx442I/AAAAAAAAAAI/AAAAAAAAAJ8/_AwxqjC6DhE/s50-c-k-no/photo.jpg",
            "userId": "111833698361307138454"
          }
        }
      },
      "cell_type": "code",
      "source": [
        "with tf.Session() as sess:\n",
        "    \n",
        "    # Use your Saver instance to restore your saved rnn time series model\n",
        "    saver.restore(sess, \"./ex_time_series_model\")\n",
        "\n",
        "    # Create a numpy array for your genreative seed from the last 12 months of the \n",
        "    # training set data. Hint: Just use tail(12) and then pass it to an np.array\n",
        "    train_seed = list(train_df_scale[-12:])\n",
        "    \n",
        "    ## Now create a for loop that \n",
        "    for iteration in range(12):\n",
        "        X_batch = np.array(train_seed[-num_of_time_steps:]).reshape(1, num_of_time_steps, 1)\n",
        "        y_pred = sess.run(outputs, feed_dict={X: X_batch})\n",
        "        train_seed.append(y_pred[0, -1, 0])"
      ],
      "execution_count": 25,
      "outputs": [
        {
          "output_type": "stream",
          "text": [
            "INFO:tensorflow:Restoring parameters from ./ex_time_series_model\n"
          ],
          "name": "stdout"
        }
      ]
    },
    {
      "metadata": {
        "id": "uT-YjZPuo_ls",
        "colab_type": "text"
      },
      "cell_type": "markdown",
      "source": [
        "** Show the result of the predictions. **"
      ]
    },
    {
      "metadata": {
        "id": "K2R0zlTH_KUO",
        "colab_type": "code",
        "colab": {
          "autoexec": {
            "startup": false,
            "wait_interval": 0
          }
        }
      },
      "cell_type": "code",
      "source": [
        ""
      ],
      "execution_count": 0,
      "outputs": []
    },
    {
      "metadata": {
        "id": "aq-fMKv-_Kiv",
        "colab_type": "code",
        "colab": {
          "autoexec": {
            "startup": false,
            "wait_interval": 0
          },
          "base_uri": "https://localhost:8080/",
          "height": 425
        },
        "outputId": "c3095647-3f35-4a43-cefb-77317e43ec37",
        "executionInfo": {
          "status": "ok",
          "timestamp": 1533622278902,
          "user_tz": -330,
          "elapsed": 861,
          "user": {
            "displayName": "ankur raja",
            "photoUrl": "//lh3.googleusercontent.com/-P3hjYlx442I/AAAAAAAAAAI/AAAAAAAAAJ8/_AwxqjC6DhE/s50-c-k-no/photo.jpg",
            "userId": "111833698361307138454"
          }
        }
      },
      "cell_type": "code",
      "source": [
        "train_seed"
      ],
      "execution_count": 26,
      "outputs": [
        {
          "output_type": "execute_result",
          "data": {
            "text/plain": [
              "[array([0.66105769]),\n",
              " array([0.54086538]),\n",
              " array([0.80769231]),\n",
              " array([0.83894231]),\n",
              " array([1.]),\n",
              " array([0.94711538]),\n",
              " array([0.85336538]),\n",
              " array([0.75480769]),\n",
              " array([0.62980769]),\n",
              " array([0.62259615]),\n",
              " array([0.52884615]),\n",
              " array([0.625]),\n",
              " 0.6329793,\n",
              " 0.5851839,\n",
              " 0.8212807,\n",
              " 0.73604697,\n",
              " 0.8941958,\n",
              " 0.8348589,\n",
              " 0.69468105,\n",
              " 0.64389914,\n",
              " 0.55479175,\n",
              " 0.51193476,\n",
              " 0.49745086,\n",
              " 0.489752]"
            ]
          },
          "metadata": {
            "tags": []
          },
          "execution_count": 26
        }
      ]
    },
    {
      "metadata": {
        "id": "XPufWi6ko_lt",
        "colab_type": "code",
        "colab": {
          "autoexec": {
            "startup": false,
            "wait_interval": 0
          }
        }
      },
      "cell_type": "code",
      "source": [
        ""
      ],
      "execution_count": 0,
      "outputs": []
    },
    {
      "metadata": {
        "id": "02_MtoV-o_l1",
        "colab_type": "text"
      },
      "cell_type": "markdown",
      "source": [
        "** Grab the portion of the results that are the generated values and apply inverse_transform on them to turn them back into milk production value units (lbs per cow). Also reshape the results to be (12,1) so we can easily add them to the test_set dataframe.**"
      ]
    },
    {
      "metadata": {
        "id": "rc3ARlZfo_l3",
        "colab_type": "code",
        "colab": {
          "autoexec": {
            "startup": false,
            "wait_interval": 0
          }
        }
      },
      "cell_type": "code",
      "source": [
        "results = scale.inverse_transform(np.array(train_seed[12:]).reshape(12,1))"
      ],
      "execution_count": 0,
      "outputs": []
    },
    {
      "metadata": {
        "id": "E03MlHc8o_l8",
        "colab_type": "text"
      },
      "cell_type": "markdown",
      "source": [
        "** Create a new column on the test_set called \"Generated\" and set it equal to the generated results. You may get a warning about this, feel free to ignore it.**"
      ]
    },
    {
      "metadata": {
        "id": "GRAZenrfo_l-",
        "colab_type": "code",
        "colab": {
          "autoexec": {
            "startup": false,
            "wait_interval": 0
          },
          "base_uri": "https://localhost:8080/",
          "height": 119
        },
        "outputId": "3eee235c-4ef3-429d-ae43-29efa1c681f6",
        "executionInfo": {
          "status": "ok",
          "timestamp": 1533622282547,
          "user_tz": -330,
          "elapsed": 810,
          "user": {
            "displayName": "ankur raja",
            "photoUrl": "//lh3.googleusercontent.com/-P3hjYlx442I/AAAAAAAAAAI/AAAAAAAAAJ8/_AwxqjC6DhE/s50-c-k-no/photo.jpg",
            "userId": "111833698361307138454"
          }
        }
      },
      "cell_type": "code",
      "source": [
        "test_df[\"Generated\"] = results"
      ],
      "execution_count": 28,
      "outputs": [
        {
          "output_type": "stream",
          "text": [
            "/usr/local/lib/python3.6/dist-packages/ipykernel_launcher.py:1: SettingWithCopyWarning: \n",
            "A value is trying to be set on a copy of a slice from a DataFrame.\n",
            "Try using .loc[row_indexer,col_indexer] = value instead\n",
            "\n",
            "See the caveats in the documentation: http://pandas.pydata.org/pandas-docs/stable/indexing.html#indexing-view-versus-copy\n",
            "  \"\"\"Entry point for launching an IPython kernel.\n"
          ],
          "name": "stderr"
        }
      ]
    },
    {
      "metadata": {
        "id": "U-zn7pezo_mD",
        "colab_type": "text"
      },
      "cell_type": "markdown",
      "source": [
        "** View the test_set dataframe. **"
      ]
    },
    {
      "metadata": {
        "id": "1Gl10RjD_dPk",
        "colab_type": "code",
        "colab": {
          "autoexec": {
            "startup": false,
            "wait_interval": 0
          },
          "base_uri": "https://localhost:8080/",
          "height": 452
        },
        "outputId": "0d4d777b-68ae-4611-83b3-d387f7c0f691",
        "executionInfo": {
          "status": "ok",
          "timestamp": 1533622283634,
          "user_tz": -330,
          "elapsed": 814,
          "user": {
            "displayName": "ankur raja",
            "photoUrl": "//lh3.googleusercontent.com/-P3hjYlx442I/AAAAAAAAAAI/AAAAAAAAAJ8/_AwxqjC6DhE/s50-c-k-no/photo.jpg",
            "userId": "111833698361307138454"
          }
        }
      },
      "cell_type": "code",
      "source": [
        "test_df"
      ],
      "execution_count": 29,
      "outputs": [
        {
          "output_type": "execute_result",
          "data": {
            "text/html": [
              "<div>\n",
              "<style scoped>\n",
              "    .dataframe tbody tr th:only-of-type {\n",
              "        vertical-align: middle;\n",
              "    }\n",
              "\n",
              "    .dataframe tbody tr th {\n",
              "        vertical-align: top;\n",
              "    }\n",
              "\n",
              "    .dataframe thead th {\n",
              "        text-align: right;\n",
              "    }\n",
              "</style>\n",
              "<table border=\"1\" class=\"dataframe\">\n",
              "  <thead>\n",
              "    <tr style=\"text-align: right;\">\n",
              "      <th></th>\n",
              "      <th>Milk Production</th>\n",
              "      <th>Generated</th>\n",
              "    </tr>\n",
              "    <tr>\n",
              "      <th>Month</th>\n",
              "      <th></th>\n",
              "      <th></th>\n",
              "    </tr>\n",
              "  </thead>\n",
              "  <tbody>\n",
              "    <tr>\n",
              "      <th>1975-01-01 01:00:00</th>\n",
              "      <td>834.0</td>\n",
              "      <td>816.319336</td>\n",
              "    </tr>\n",
              "    <tr>\n",
              "      <th>1975-02-01 01:00:00</th>\n",
              "      <td>782.0</td>\n",
              "      <td>796.436523</td>\n",
              "    </tr>\n",
              "    <tr>\n",
              "      <th>1975-03-01 01:00:00</th>\n",
              "      <td>892.0</td>\n",
              "      <td>894.652771</td>\n",
              "    </tr>\n",
              "    <tr>\n",
              "      <th>1975-04-01 01:00:00</th>\n",
              "      <td>903.0</td>\n",
              "      <td>859.195557</td>\n",
              "    </tr>\n",
              "    <tr>\n",
              "      <th>1975-05-01 01:00:00</th>\n",
              "      <td>966.0</td>\n",
              "      <td>924.985413</td>\n",
              "    </tr>\n",
              "    <tr>\n",
              "      <th>1975-06-01 01:00:00</th>\n",
              "      <td>937.0</td>\n",
              "      <td>900.301270</td>\n",
              "    </tr>\n",
              "    <tr>\n",
              "      <th>1975-07-01 01:00:00</th>\n",
              "      <td>896.0</td>\n",
              "      <td>841.987366</td>\n",
              "    </tr>\n",
              "    <tr>\n",
              "      <th>1975-08-01 01:00:00</th>\n",
              "      <td>858.0</td>\n",
              "      <td>820.862061</td>\n",
              "    </tr>\n",
              "    <tr>\n",
              "      <th>1975-09-01 01:00:00</th>\n",
              "      <td>817.0</td>\n",
              "      <td>783.793396</td>\n",
              "    </tr>\n",
              "    <tr>\n",
              "      <th>1975-10-01 01:00:00</th>\n",
              "      <td>827.0</td>\n",
              "      <td>765.964844</td>\n",
              "    </tr>\n",
              "    <tr>\n",
              "      <th>1975-11-01 01:00:00</th>\n",
              "      <td>797.0</td>\n",
              "      <td>759.939575</td>\n",
              "    </tr>\n",
              "    <tr>\n",
              "      <th>1975-12-01 01:00:00</th>\n",
              "      <td>843.0</td>\n",
              "      <td>756.736816</td>\n",
              "    </tr>\n",
              "  </tbody>\n",
              "</table>\n",
              "</div>"
            ],
            "text/plain": [
              "                     Milk Production   Generated\n",
              "Month                                           \n",
              "1975-01-01 01:00:00            834.0  816.319336\n",
              "1975-02-01 01:00:00            782.0  796.436523\n",
              "1975-03-01 01:00:00            892.0  894.652771\n",
              "1975-04-01 01:00:00            903.0  859.195557\n",
              "1975-05-01 01:00:00            966.0  924.985413\n",
              "1975-06-01 01:00:00            937.0  900.301270\n",
              "1975-07-01 01:00:00            896.0  841.987366\n",
              "1975-08-01 01:00:00            858.0  820.862061\n",
              "1975-09-01 01:00:00            817.0  783.793396\n",
              "1975-10-01 01:00:00            827.0  765.964844\n",
              "1975-11-01 01:00:00            797.0  759.939575\n",
              "1975-12-01 01:00:00            843.0  756.736816"
            ]
          },
          "metadata": {
            "tags": []
          },
          "execution_count": 29
        }
      ]
    },
    {
      "metadata": {
        "id": "joIdWNjNo_mF",
        "colab_type": "code",
        "colab": {
          "autoexec": {
            "startup": false,
            "wait_interval": 0
          }
        }
      },
      "cell_type": "code",
      "source": [
        ""
      ],
      "execution_count": 0,
      "outputs": []
    },
    {
      "metadata": {
        "id": "CA9uqx7Zo_mM",
        "colab_type": "text"
      },
      "cell_type": "markdown",
      "source": [
        "** Plot out the two columns for comparison. **"
      ]
    },
    {
      "metadata": {
        "id": "OozYHfH3_g6y",
        "colab_type": "code",
        "colab": {
          "autoexec": {
            "startup": false,
            "wait_interval": 0
          },
          "base_uri": "https://localhost:8080/",
          "height": 365
        },
        "outputId": "ec114529-5f7e-49b9-d90e-f10c906bddee",
        "executionInfo": {
          "status": "ok",
          "timestamp": 1533622286787,
          "user_tz": -330,
          "elapsed": 1558,
          "user": {
            "displayName": "ankur raja",
            "photoUrl": "//lh3.googleusercontent.com/-P3hjYlx442I/AAAAAAAAAAI/AAAAAAAAAJ8/_AwxqjC6DhE/s50-c-k-no/photo.jpg",
            "userId": "111833698361307138454"
          }
        }
      },
      "cell_type": "code",
      "source": [
        "test_df.plot()"
      ],
      "execution_count": 30,
      "outputs": [
        {
          "output_type": "execute_result",
          "data": {
            "text/plain": [
              "<matplotlib.axes._subplots.AxesSubplot at 0x7f750d8374a8>"
            ]
          },
          "metadata": {
            "tags": []
          },
          "execution_count": 30
        },
        {
          "output_type": "display_data",
          "data": {
            "image/png": "[encoded data removed]",
            "text/plain": [
              "<matplotlib.figure.Figure at 0x7f750d75c278>"
            ]
          },
          "metadata": {
            "tags": []
          }
        }
      ]
    },
    {
      "metadata": {
        "id": "E23n1SLeo_mO",
        "colab_type": "code",
        "colab": {
          "autoexec": {
            "startup": false,
            "wait_interval": 0
          }
        }
      },
      "cell_type": "code",
      "source": [
        ""
      ],
      "execution_count": 0,
      "outputs": []
    },
    {
      "metadata": {
        "id": "lBi8hhMRo_mU",
        "colab_type": "text"
      },
      "cell_type": "markdown",
      "source": [
        "# Great Job!\n",
        "\n",
        "Play around with the parameters and RNN layers, does a faster learning rate with more steps improve the model? What about GRU or BasicRNN units? What if you train the original model to not just predict one timestep ahead into the future, but 3 instead? Lots of stuff to add on here!"
      ]
    }
  ]
}